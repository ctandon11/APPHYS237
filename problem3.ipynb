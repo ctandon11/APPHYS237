{
 "cells": [
  {
   "cell_type": "code",
   "execution_count": 4,
   "metadata": {},
   "outputs": [],
   "source": [
    "import numpy as np\n",
    "import matplotlib.pyplot as plt"
   ]
  },
  {
   "cell_type": "code",
   "execution_count": 24,
   "metadata": {},
   "outputs": [],
   "source": [
    "def read_fasta(fp):\n",
    "    name, seq = None, []\n",
    "    for line in fp:\n",
    "        line = line.rstrip()\n",
    "        if line.startswith(\">\"):\n",
    "            if name: yield (name, ''.join(seq))\n",
    "            name, seq = line, []\n",
    "        else:\n",
    "            seq.append(line)\n",
    "    if name: yield (name, ''.join(seq))\n",
    "\n",
    "def parse(seq):\n",
    "    nucleotides = {'A': 0, 'T': 0, 'C': 0, 'G': 0}\n",
    "    for char in seq:\n",
    "        nucleotides[char] += 1\n",
    "    return nucleotides\n",
    "\n",
    "def parse_twentymer(seq):\n",
    "    # {20-mer : count}\n",
    "    dict = {} \n",
    "    unique = 0\n",
    "    print(\"number of 20-mers: \" + str(len(seq) - 20 + 1))\n",
    "\n",
    "    for i in range(len(seq) - 20 + 1):\n",
    "        twentymer = seq[i:i+20]\n",
    "        if twentymer in dict: \n",
    "            dict[twentymer] += 1\n",
    "            if (dict[twentymer] == 2): unique -=1\n",
    "        else: \n",
    "            dict[twentymer] = 1\n",
    "            unique += 1\n",
    "    print(\"number of unique 20-mers \" + str(unique))\n",
    "    \n",
    "    "
   ]
  },
  {
   "cell_type": "code",
   "execution_count": 7,
   "metadata": {},
   "outputs": [],
   "source": [
    "def plot_part_c(length):\n",
    "    plt.hist(length, bins = 100)\n",
    "    print(\"Max length: \" + str(max(length)))\n",
    "    plt.title(\"Gene Length\")\n",
    "    plt.ylabel(\"Frequency\")\n",
    "    plt.xlabel(\"Length\")\n",
    "    plt.savefig(\"3c.png\")\n",
    "    plt.show()"
   ]
  },
  {
   "cell_type": "code",
   "execution_count": 8,
   "metadata": {},
   "outputs": [
    {
     "name": "stdout",
     "output_type": "stream",
     "text": [
      "Max length: 7152\n"
     ]
    },
    {
     "data": {
      "image/png": "[encoded data removed]",
      "text/plain": [
       "<Figure size 432x288 with 1 Axes>"
      ]
     },
     "metadata": {
      "needs_background": "light"
     },
     "output_type": "display_data"
    },
    {
     "name": "stdout",
     "output_type": "stream",
     "text": [
      "Number of genes: 16868\n",
      "Number of genes transcribed in reverse direction: 8796\n"
     ]
    }
   ],
   "source": [
    "# Problem 3c:\n",
    "with open('problem_set_data/ecoli_genes.txt') as f:\n",
    "    lines = f.readlines() # list containing lines of file\n",
    "    d = {} # {gene name: [start, end, orientation]}\n",
    "    length = []\n",
    "    reverse = 0\n",
    "\n",
    "    i = 1\n",
    "    for line in lines:\n",
    "        line = line.strip() # remove leading/trailing white spaces\n",
    "        if line:\n",
    "            if i == 1:\n",
    "                i = i + 1\n",
    "            else:\n",
    "                data = [item.strip() for item in line.split(',')]\n",
    "                for index, elem in enumerate(data):\n",
    "                    d[data[0]] = data[1:]\n",
    "                    length.append(int(data[2]) - int(data[1]) + 1)\n",
    "                    if (data[3] == 'reverse'): reverse += 1\n",
    "\n",
    "    plot_part_c(length)\n",
    "\n",
    "    print(\"Number of genes: \" + str(len(length)))\n",
    "    print(\"Number of genes transcribed in reverse direction: \" + str(reverse))"
   ]
  },
  {
   "cell_type": "code",
   "execution_count": 25,
   "metadata": {},
   "outputs": [],
   "source": [
    "stop_codon = \"*\"\n",
    "\n",
    "standard_RNA_codon_table = {\n",
    "        'UUU': 'F', 'UUC': 'F', 'UUA': 'L', 'UUG': 'L',\n",
    "        'UCU': 'S', 'UCC': 'S', 'UCA': 'S', 'UCG': 'S',\n",
    "        'UAU': 'Y', 'UAC': 'Y', 'UAA': '*', 'UAG': '*',\n",
    "        'UGU': 'C', 'UGC': 'C', 'UGA': '*', 'UGG': 'W',\n",
    "        'CUU': 'L', 'CUC': 'L', 'CUA': 'L', 'CUG': 'L',\n",
    "        'CCU': 'P', 'CCC': 'P', 'CCA': 'P', 'CCG': 'P',\n",
    "        'CAU': 'H', 'CAC': 'H', 'CAA': 'Q', 'CAG': 'Q',\n",
    "        'CGU': 'R', 'CGC': 'R', 'CGA': 'R', 'CGG': 'R',\n",
    "        'AUU': 'I', 'AUC': 'I', 'AUA': 'I', 'AUG': 'M',\n",
    "        'ACU': 'T', 'ACC': 'T', 'ACA': 'T', 'ACG': 'T',\n",
    "        'AAU': 'N', 'AAC': 'N', 'AAA': 'K', 'AAG': 'K',\n",
    "        'AGU': 'S', 'AGC': 'S', 'AGA': 'R', 'AGG': 'R',\n",
    "        'GUU': 'V', 'GUC': 'V', 'GUA': 'V', 'GUG': 'V',\n",
    "        'GCU': 'A', 'GCC': 'A', 'GCA': 'A', 'GCG': 'A',\n",
    "        'GAU': 'D', 'GAC': 'D', 'GAA': 'E', 'GAG': 'E',\n",
    "        'GGU': 'G', 'GGC': 'G', 'GGA': 'G', 'GGG': 'G'\n",
    "    }\n",
    "\n",
    "def check_one_mutation(s1, s2):\n",
    "    count = 0\n",
    "    for i in range(len(s1)):\n",
    "        if s1[i] != s2[i]:\n",
    "            count += 1\n",
    "    return count == 1\n",
    "\n",
    "def part_d(sequence):\n",
    "    synonymous_mutations = 0\n",
    "    nonsense_mutations = 0\n",
    "    missense_mutations = 0\n",
    "    \n",
    "    # loop through all codons in sequence\n",
    "    for i in range(0, len(sequence), 3):\n",
    "        codon = sequence[i:i+3]\n",
    "        \n",
    "        if codon in standard_RNA_codon_table:\n",
    "            amino_acid = standard_RNA_codon_table[codon]\n",
    "            \n",
    "            for check_codon in standard_RNA_codon_table:\n",
    "                # check for codons that result from a single mutation\n",
    "                if check_one_mutation(check_codon, codon):\n",
    "                    # check for mutations that don't change amino acid\n",
    "                    if standard_RNA_codon_table[check_codon] == amino_acid:\n",
    "                        synonymous_mutations += 1\n",
    "                    # check for mutations that change amino acid\n",
    "                    else:\n",
    "                        # changes amino acid to a stop codon\n",
    "                        if standard_RNA_codon_table[check_codon] == stop_codon:\n",
    "                            nonsense_mutations += 1\n",
    "                        # change amino acid without introducing stop codon\n",
    "                        else: \n",
    "                            missense_mutations += 1\n",
    "    \n",
    "    print(\"number of synonymous mutations: \" + str(synonymous_mutations))\n",
    "    print(\"number of nonsense mutations: \" + str(nonsense_mutations))\n",
    "    print(\"number of missense mutations: \" + str(missense_mutations))\n"
   ]
  },
  {
   "cell_type": "code",
   "execution_count": 27,
   "metadata": {},
   "outputs": [
    {
     "name": "stdout",
     "output_type": "stream",
     "text": [
      "{'A': 1140788, 'T': 1138496, 'C': 1176949, 'G': 1173579}\n",
      "number of 20-mers: 4629793\n",
      "number of unique 20-mers 4510555\n",
      "number of synonymous mutations: 1573990\n",
      "number of nonsense mutations: 219964\n",
      "number of missense mutations: 4408441\n"
     ]
    }
   ],
   "source": [
    "# problem 3a, 3b, 3c\n",
    "\n",
    "with open('problem_set_data/ecoli_reference_genome.fasta') as fp:\n",
    "    for name, seq in read_fasta(fp):\n",
    "        # Problem 3a: \n",
    "        print(parse(seq))\n",
    "        # Problem 3b\n",
    "        parse_twentymer(seq)\n",
    "        # Problem 3d\n",
    "        part_d(seq)"
   ]
  },
  {
   "cell_type": "code",
   "execution_count": null,
   "metadata": {},
   "outputs": [],
   "source": []
  }
 ],
 "metadata": {
  "kernelspec": {
   "display_name": "Python 3 (ipykernel)",
   "language": "python",
   "name": "python3"
  },
  "language_info": {
   "codemirror_mode": {
    "name": "ipython",
    "version": 3
   },
   "file_extension": ".py",
   "mimetype": "text/x-python",
   "name": "python",
   "nbconvert_exporter": "python",
   "pygments_lexer": "ipython3",
   "version": "3.11.3"
  },
  "vscode": {
   "interpreter": {
    "hash": "fe2416eaec27f08ce09319f5dff37ea1dd0705596ed01b0bb33902fb8d6646fc"
   }
  }
 },
 "nbformat": 4,
 "nbformat_minor": 2
}

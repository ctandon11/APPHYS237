{
 "cells": [
  {
   "cell_type": "code",
   "execution_count": 1,
   "id": "47f07b4a",
   "metadata": {},
   "outputs": [],
   "source": [
    "import numpy\n",
    "import matplotlib.pyplot as plt\n",
    "import collections"
   ]
  },
  {
   "cell_type": "code",
   "execution_count": 25,
   "id": "19ba3d12",
   "metadata": {},
   "outputs": [],
   "source": [
    "def read_fasta(fp):\n",
    "    name, seq = None, []\n",
    "    for line in fp:\n",
    "        line = line.rstrip()\n",
    "        if line.startswith(\">\"):\n",
    "            if name: yield (name, ''.join(seq))\n",
    "            name, seq = line, []\n",
    "        else:\n",
    "            seq.append(line)\n",
    "    if name: yield (name, ''.join(seq))\n",
    "\n",
    "def diff_nucleotide(a,b):\n",
    "    return sum ( a[i] != b[i] for i in range(len(a)) )\n",
    "\n",
    "def get_year(s):\n",
    "    return s.split('/')[-1]\n",
    "\n",
    "def plot_part_a(dict, fist_seq):\n",
    "    print(\"Part a\")\n",
    "    final_diff = 0\n",
    "    final_seq_len = 0\n",
    "    for year, seqs in dict.items():\n",
    "        for seq in seqs:\n",
    "            final_diff = diff_nucleotide(fist_seq, seq)\n",
    "            final_seq_len = len(seq)\n",
    "            plt.scatter(year, final_diff, c = 'black')\n",
    "    #print(\"# of accumulated differences \" + str(final_diff))\n",
    "    #print(\"length of final sequence\" +  str(final_seq_len))\n",
    "    \n",
    "    plt.title(\"Differences Accumulated Since First Sample\")\n",
    "    plt.ylabel(\"Number of Single Nucleotide Differences\")\n",
    "    plt.xlabel(\"Sampling Year\")\n",
    "    plt.xticks(rotation=90)\n",
    "    plt.savefig(\"1a.png\", bbox_inches='tight')\n",
    "    plt.show()\n",
    "\n",
    "def plot_part_b(dict):\n",
    "    print(\"Part b\")\n",
    "    diff = []\n",
    "    for year, seqs in dict.items():\n",
    "        pairs = res = [(a, b) for idx, a in enumerate(seqs) for b in seqs[idx + 1:]]\n",
    "        for pair in pairs:\n",
    "            diff.append(diff_nucleotide(pair[0], pair[1]))\n",
    "    \n",
    "    print(\"average number of mutations within a year = \" + str(sum(diff)/len(diff)))\n",
    "    '''\n",
    "            plt.scatter(year, diff_nucleotide(pair[0], pair[1]), c = 'black')\n",
    "    plt.title(\"Differences Between Each Pair of Strains from the Same Year\")\n",
    "    plt.ylabel(\"Number of Single Nucleotide Differences\")\n",
    "    plt.xlabel(\"Sampling Year\")\n",
    "    plt.xticks(rotation=90)\n",
    "    plt.savefig(\"1b.png\", bbox_inches='tight')\n",
    "    plt.autoscale()\n",
    "    plt.show()\n",
    "    '''"
   ]
  },
  {
   "cell_type": "code",
   "execution_count": 5,
   "id": "d73debb5",
   "metadata": {},
   "outputs": [
    {
     "name": "stdout",
     "output_type": "stream",
     "text": [
      "first sequence: >A/Aichi/2/1968\n",
      "differences calculated\n"
     ]
    }
   ],
   "source": [
    "with open('problem_set_data/influenza_HA_dna_sequences.fasta') as fp:\n",
    "    year_difference_dict = {}\n",
    "    for name, seq in read_fasta(fp):\n",
    "        if name == \">A/Aichi/2/1968\":\n",
    "            print(\"first sequence: \" + name)\n",
    "            first_seq  = seq\n",
    "        year = get_year(name)\n",
    "        if year in year_difference_dict:\n",
    "            year_difference_dict[year].append(seq)\n",
    "        else:\n",
    "            year_difference_dict[year] = [seq]\n",
    "    print(\"differences calculated\")\n",
    "    \n",
    "    year_difference_dict = collections.OrderedDict(sorted(year_difference_dict.items()))\n",
    "    "
   ]
  },
  {
   "cell_type": "code",
   "execution_count": 21,
   "id": "2d7dab70",
   "metadata": {},
   "outputs": [
    {
     "name": "stdout",
     "output_type": "stream",
     "text": [
      "Part a\n",
      "# of accumulated differences 215\n",
      "length of final sequence1694\n"
     ]
    },
    {
     "data": {
      "image/png": "[encoded data removed]",
      "text/plain": [
       "<Figure size 432x288 with 1 Axes>"
      ]
     },
     "metadata": {
      "needs_background": "light"
     },
     "output_type": "display_data"
    }
   ],
   "source": [
    "plot_part_a(year_difference_dict, first_seq)"
   ]
  },
  {
   "cell_type": "code",
   "execution_count": 23,
   "id": "b36c0570",
   "metadata": {},
   "outputs": [
    {
     "name": "stdout",
     "output_type": "stream",
     "text": [
      "5.657894736842105\n"
     ]
    }
   ],
   "source": [
    "# find turnover time\n",
    "mutations_per_year = 215 / (2006 - 1968)\n",
    "print(mutations_per_year)"
   ]
  },
  {
   "cell_type": "code",
   "execution_count": 26,
   "id": "82087379",
   "metadata": {},
   "outputs": [
    {
     "name": "stdout",
     "output_type": "stream",
     "text": [
      "Part b\n",
      "average number of mutations within a year = 13.316864454670219\n"
     ]
    }
   ],
   "source": [
    "plot_part_b(year_difference_dict)"
   ]
  },
  {
   "cell_type": "code",
   "execution_count": null,
   "id": "ab753c3d",
   "metadata": {},
   "outputs": [],
   "source": [
    "\n"
   ]
  }
 ],
 "metadata": {
  "kernelspec": {
   "display_name": "Python 3 (ipykernel)",
   "language": "python",
   "name": "python3"
  },
  "language_info": {
   "codemirror_mode": {
    "name": "ipython",
    "version": 3
   },
   "file_extension": ".py",
   "mimetype": "text/x-python",
   "name": "python",
   "nbconvert_exporter": "python",
   "pygments_lexer": "ipython3",
   "version": "3.8.5"
  }
 },
 "nbformat": 4,
 "nbformat_minor": 5
}
